{
 "cells": [
  {
   "cell_type": "markdown",
   "metadata": {},
   "source": [
    "### Code for Homework Assignment #2"
   ]
  },
  {
   "cell_type": "code",
   "execution_count": null,
   "metadata": {},
   "outputs": [],
   "source": [
    "import requests\n",
    "from bs4 import BeautifulSoup\n",
    "from collections import deque\n",
    "import re\n",
    "from config import configs\n"
   ]
  },
  {
   "cell_type": "code",
   "execution_count": null,
   "metadata": {},
   "outputs": [],
   "source": [
    "headers = {\n",
    "    \"User-Agent\": 'Mozilla/5.0 (Windows NT 10.0; Win64; x64) AppleWebKit/537.36 (KHTML, like Gecko) Chrome/117.0.0.0 Safari/537.36',\n",
    "    \"Cookie\": '_ga_DHNWEVCZW6=GS1.1.1696612350.3.0.1696612350.0.0.0; _gcl_aw=GCL.1696756177.Cj0KCQjwpompBhDZARIsAFD_Fp_e460gXyjWGBgp9K9t3jg1l5KV4qdPpK6ul88XeGs6ZGcS1Vq770kaAuuvEALw_wcB; _gcl_au=1.1.846921473.1696756177; _ga_PSXRXB3M0B=GS1.1.1696756176.1.0.1696756176.0.0.0; _gid=GA1.2.344435673.1696756177; _gac_UA-4803886-1=1.1696756177.Cj0KCQjwpompBhDZARIsAFD_Fp_e460gXyjWGBgp9K9t3jg1l5KV4qdPpK6ul88XeGs6ZGcS1Vq770kaAuuvEALw_wcB; _gat_UA-4803886-1=1; _gac_UA-151359273-10=1.1696756177.Cj0KCQjwpompBhDZARIsAFD_Fp_e460gXyjWGBgp9K9t3jg1l5KV4qdPpK6ul88XeGs6ZGcS1Vq770kaAuuvEALw_wcB; _gat_UA-151359273-10=1; pageviewCount=2; _ga_TK9BQL5X7Z=GS1.1.1696756176.4.1.1696756178.0.0.0; _ga_GYRY47YH3Z=GS1.1.1696756176.1.1.1696756178.0.0.0; _ga_Z047KJJ47B=GS1.1.1696756176.1.1.1696756178.0.0.0; AWSALBTG=oauqL7VVR3ZhtBLHvQlk2f/FwFolND75LZgKcSh9mj81rbbCtKXarFgybh8vNAjL+B5bWVbv9v/oGOG8VXtoS7WK8BEtE6A1C0vXCTi8V/WetP6nz4Nss21M2ua4QABre/eaQJu4CALlgJHh5KcsRKLi5V+rN8rX38y85rksMICC; AWSALBTGCORS=oauqL7VVR3ZhtBLHvQlk2f/FwFolND75LZgKcSh9mj81rbbCtKXarFgybh8vNAjL+B5bWVbv9v/oGOG8VXtoS7WK8BEtE6A1C0vXCTi8V/WetP6nz4Nss21M2ua4QABre/eaQJu4CALlgJHh5KcsRKLi5V+rN8rX38y85rksMICC; AWSALB=MWqJnU/SqtFJr3QDr+oQyjVxXWeGjflBQdSJ3pSi8Cr6ut9+VBiq7xG5VdoMS52WsKJPwz73cKtje8rMt6P2s8GpeucSsa0KvPy8yrlmpoz+zrISKbi5AldvhekX; _ga=GA1.2.245726608.1696600125; _ga_GZ9T4NRB7M=GS1.2.1696756177.1.1.1696756179.0.0.0'\n",
    "}"
   ]
  },
  {
   "cell_type": "code",
   "execution_count": null,
   "metadata": {},
   "outputs": [],
   "source": [
    "def need_to_find_crisis(soup,cfg):\n",
    "    \n",
    "    \n",
    "    def parse_relative_tag(cfg):\n",
    "        relative_anchor_tag = cfg.relative_anchor_tag\n",
    "        pattern = r'<(\\w+)(.*?)(?:>(.*?)</\\1>|/>)'\n",
    "        match = re.match(pattern, relative_anchor_tag)\n",
    "        \n",
    "        if match:\n",
    "            tag_name = match.group(1)\n",
    "            attributes_str = match.group(2)\n",
    "            text_content = match.group(3)\n",
    "            \n",
    "            \n",
    "            attributes_pattern = r'(\\w+)\\s*=\\s*[\"\\'](.*?)[\"\\']'\n",
    "            attributes = dict(re.findall(attributes_pattern, attributes_str))\n",
    "            \n",
    "            return tag_name, attributes, text_content\n",
    "        else:\n",
    "            raise ValueError(\"Invalid relative_anchor_tag format\")\n",
    "\n",
    "    tag_name, attributes, text_content = parse_relative_tag(cfg)\n",
    "    if soup.find(tag_name, attrs=attributes, text=text_content):\n",
    "        return True\n",
    "    return False\n"
   ]
  },
  {
   "cell_type": "code",
   "execution_count": null,
   "metadata": {},
   "outputs": [],
   "source": [
    "def spider(cfg):\n",
    "    print(cfg.seed_url)\n",
    "    queue = deque([url for url in cfg.seed_url]) \n",
    "    visited_urls = set()\n",
    "    result = []\n",
    "    nums_urls = 1\n",
    "\n",
    "    print(queue,len(queue))\n",
    "    while len(result)<cfg.MAX_LENGTH:\n",
    "\n",
    "        current_url= queue.pop()\n",
    "        \n",
    "        try:\n",
    "            response = requests.get(current_url,headers = headers)\n",
    "        except (requests.exceptions.ConnectionError,\n",
    "                requests.exceptions.InvalidURL,\n",
    "                requests.exceptions.MissingSchema,\n",
    "                UnicodeError,\n",
    "                requests.exceptions.InvalidSchema):\n",
    "\n",
    "            continue\n",
    "        if not current_url.startswith(cfg.init_url):\n",
    "            continue\n",
    "        print(f'We have already visited {nums_urls} webpages, current url is:{current_url}')\n",
    "        nums_urls += 1\n",
    "        soup = BeautifulSoup(response.text, 'html.parser')\n",
    "\n",
    "        links = soup.find_all('a',href=True)\n",
    "        for link in links:\n",
    "            relative_url = link.get('href')\n",
    "            if 'http' not in relative_url:\n",
    "                relative_url = cfg.init_url+relative_url\n",
    "\n",
    "            if relative_url not in visited_urls:\n",
    "                visited_urls.add(relative_url)\n",
    "                queue.append(relative_url)\n",
    "            \n",
    "        \n",
    "        if need_to_find_crisis(soup, cfg):\n",
    "            if \"crisis\" in soup.get_text().lower():\n",
    "                print(f\"Press Release URL: {current_url}\")\n",
    "                result.append(current_url)\n",
    "                with open('./'+cfg.path+f'_{len(result)}.txt','w') as f:\n",
    "                    f.write(soup)\n",
    "\n",
    "\n",
    "\n",
    "    with open('./results.txt','w') as f:\n",
    "        for url in result:\n",
    "            f.write(url+'\\n')"
   ]
  },
  {
   "cell_type": "markdown",
   "metadata": {},
   "source": [
    "##### for United_Nations"
   ]
  },
  {
   "cell_type": "code",
   "execution_count": null,
   "metadata": {},
   "outputs": [],
   "source": [
    "cfg = configs.United_Nations\n",
    "spider(cfg)"
   ]
  },
  {
   "cell_type": "markdown",
   "metadata": {},
   "source": [
    "##### for European_Parliament"
   ]
  },
  {
   "cell_type": "code",
   "execution_count": null,
   "metadata": {},
   "outputs": [],
   "source": [
    "cfg = configs.European_Parliament\n",
    "spider(cfg)"
   ]
  }
 ],
 "metadata": {
  "kernelspec": {
   "display_name": "mmh",
   "language": "python",
   "name": "python3"
  },
  "language_info": {
   "codemirror_mode": {
    "name": "ipython",
    "version": 3
   },
   "file_extension": ".py",
   "mimetype": "text/x-python",
   "name": "python",
   "nbconvert_exporter": "python",
   "pygments_lexer": "ipython3",
   "version": "3.8.18"
  },
  "orig_nbformat": 4
 },
 "nbformat": 4,
 "nbformat_minor": 2
}
